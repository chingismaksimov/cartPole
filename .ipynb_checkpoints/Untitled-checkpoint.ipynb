{
 "cells": [
  {
   "cell_type": "code",
   "execution_count": 235,
   "metadata": {},
   "outputs": [],
   "source": [
    "import gym\n",
    "import keras\n",
    "import numpy as np\n",
    "import random\n",
    "import copy\n",
    "\n",
    "\n",
    "class Agent():\n",
    "    def __init__(self):\n",
    "        self.env = gym.make('CartPole-v0')\n",
    "        self.brain = self.create_brain()\n",
    "        self.memory = []\n",
    "        self.exploration_rate = 0.05\n",
    "        self.learning_rate = 1\n",
    "        self.discount_factor = 0.9\n",
    "\n",
    "    def create_brain(self):\n",
    "        inputs = keras.layers.Input(shape=(4,))\n",
    "        x = keras.layers.Dense(16, activation='relu')(inputs)\n",
    "        x = keras.layers.Dense(32, activation='relu')(x)\n",
    "        predictions = keras.layers.Dense(2, activation='linear')(x)\n",
    "        model = keras.Model(inputs=inputs, outputs=predictions)\n",
    "        model.compile(optimizer='rmsprop', loss='mean_squared_error')\n",
    "        return model\n",
    "\n",
    "    def play(self, num_episodes=100, num_time_steps=100):\n",
    "        self.memory = []\n",
    "        for episode in range(num_episodes):\n",
    "            observation = self.env.reset()\n",
    "            for t in range(num_time_steps):\n",
    "                initial_observation = observation.reshape(1, -1)\n",
    "                initial_q_values = self.brain.predict(initial_observation).flatten()\n",
    "                if np.random.rand() < self.exploration_rate:\n",
    "                    action = self.env.action_space.sample()\n",
    "                else:\n",
    "                    action = np.argmax(initial_q_values)\n",
    "                observation, reward, done, _ = self.env.step(action)\n",
    "                observation = observation.reshape(1, -1)\n",
    "                q_values = self.brain.predict(observation).flatten()\n",
    "                target = copy.copy(initial_q_values)\n",
    "                target[action] = initial_q_values[action] + self.learning_rate * (initial_q_values[action] - (reward + self.discount_factor * np.max(q_values)))\n",
    "                self.memory.append((initial_observation, initial_q_values, observation, q_values, target, action, reward, done))\n",
    "                if done:\n",
    "                    break\n",
    "\n",
    "    def learn(self, batch_size=10, num_epochs=10):\n",
    "        self.memory = np.asarray(self.memory)\n",
    "        x = self.memory[:, 0]\n",
    "        y = self.memory[:, 4]\n",
    "\n",
    "agent = Agent()\n",
    "agent.play()\n",
    "agent.learn()"
   ]
  },
  {
   "cell_type": "code",
   "execution_count": 236,
   "metadata": {},
   "outputs": [
    {
     "data": {
      "text/plain": [
       "array([array([[ 0.00248855, -0.02750133, -0.03640334,  0.02987755]]),\n",
       "       array([-0.0134726 , -0.01946324], dtype=float32),\n",
       "       array([[ 0.00193852, -0.22208284, -0.03580579,  0.31085622]]),\n",
       "       array([-0.10143878, -0.09219329], dtype=float32),\n",
       "       array([-0.9439712 , -0.01946324], dtype=float32), 0, 1.0, False],\n",
       "      dtype=object)"
      ]
     },
     "execution_count": 236,
     "metadata": {},
     "output_type": "execute_result"
    }
   ],
   "source": [
    "agent.memory[0]"
   ]
  },
  {
   "cell_type": "code",
   "execution_count": 237,
   "metadata": {},
   "outputs": [],
   "source": [
    "batch = np.asarray([random.choice(agent.memory) for i in range(10)])"
   ]
  },
  {
   "cell_type": "code",
   "execution_count": 238,
   "metadata": {},
   "outputs": [
    {
     "data": {
      "text/plain": [
       "array([[array([[ 0.01204191,  0.04026624, -0.04698397, -0.06987237]]),\n",
       "        array([-0.00095788,  0.01038291], dtype=float32),\n",
       "        array([[ 0.01284724,  0.2360292 , -0.04838142, -0.37700096]]),\n",
       "        array([0.02152566, 0.01209041], dtype=float32),\n",
       "        array([-9.5788436e-04, -9.9860728e-01], dtype=float32), 1, 1.0,\n",
       "        False],\n",
       "       [array([[-0.0402312 ,  0.14414843,  0.04560947, -0.24532534]]),\n",
       "        array([0.02269199, 0.00392988], dtype=float32),\n",
       "        array([[-0.03734823, -0.05159427,  0.04070297,  0.06138791]]),\n",
       "        array([-0.01060719, -0.00468279], dtype=float32),\n",
       "        array([-0.95040154,  0.00392988], dtype=float32), 0, 1.0, False],\n",
       "       [array([[ 0.06075134,  0.61397077, -0.02661067, -0.87533249]]),\n",
       "        array([0.04002709, 0.0315402 ], dtype=float32),\n",
       "        array([[ 0.07303075,  0.41922048, -0.04411732, -0.59113308]]),\n",
       "        array([0.01568058, 0.03282335], dtype=float32),\n",
       "        array([-0.94948685,  0.0315402 ], dtype=float32), 0, 1.0, False],\n",
       "       [array([[ 0.03579153,  1.11315913,  0.0043516 , -1.35314073]]),\n",
       "        array([0.03227581, 0.04680702], dtype=float32),\n",
       "        array([[ 0.05805471,  1.30822618, -0.02271122, -1.64445917]]),\n",
       "        array([0.04496332, 0.05883837], dtype=float32),\n",
       "        array([ 0.03227581, -0.9593405 ], dtype=float32), 1, 1.0, False],\n",
       "       [array([[-0.19357547, -0.06090832,  0.15923417,  0.40733878]]),\n",
       "        array([-0.04060265, -0.04504369], dtype=float32),\n",
       "        array([[-0.19479364, -0.25788748,  0.16738094,  0.74568679]]),\n",
       "        array([-0.1413787, -0.1103679], dtype=float32),\n",
       "        array([-0.98187417, -0.04504369], dtype=float32), 0, 1.0, False],\n",
       "       [array([[-0.03516774,  0.02438343,  0.04809613,  0.09028284]]),\n",
       "        array([-0.00456514, -0.00355523], dtype=float32),\n",
       "        array([[-0.03468007,  0.21878418,  0.04990178, -0.18684627]]),\n",
       "        array([ 0.00705098, -0.00439308], dtype=float32),\n",
       "        array([-0.00456514, -1.0134563 ], dtype=float32), 1, 1.0, False],\n",
       "       [array([[ 0.03236193, -0.02054122,  0.01924193, -0.04819359]]),\n",
       "        array([0.01161266, 0.0020185 ], dtype=float32),\n",
       "        array([[ 0.0319511 , -0.21593373,  0.01827805,  0.25049768]]),\n",
       "        array([-0.07495161, -0.06016204], dtype=float32),\n",
       "        array([-0.9226288,  0.0020185], dtype=float32), 0, 1.0, False],\n",
       "       [array([[-0.05022685, -0.15239663,  0.02672281,  0.34705042]]),\n",
       "        array([-0.08040256, -0.07017331], dtype=float32),\n",
       "        array([[-0.05327478,  0.04233523,  0.03366382,  0.0629125 ]]),\n",
       "        array([ 0.00117162, -0.0036076 ], dtype=float32),\n",
       "        array([-0.08040256, -1.141401  ], dtype=float32), 1, 1.0, False],\n",
       "       [array([[-0.03310266,  0.13969825,  0.03698646, -0.14697833]]),\n",
       "        array([ 0.0101582 , -0.00313429], dtype=float32),\n",
       "        array([[-0.0303087 , -0.0559333 ,  0.03404689,  0.15713985]]),\n",
       "        array([-0.03057154, -0.02318936], dtype=float32),\n",
       "        array([-0.9588132 , -0.00313429], dtype=float32), 0, 1.0, False],\n",
       "       [array([[ 0.04002864, -0.75914321, -0.09569033,  0.75912926]]),\n",
       "        array([-0.25801724, -0.2498658 ], dtype=float32),\n",
       "        array([[ 0.02484577, -0.56284212, -0.08050774,  0.43793464]]),\n",
       "        array([-0.1373158 , -0.16895351], dtype=float32),\n",
       "        array([-0.25801724, -1.3761474 ], dtype=float32), 1, 1.0, False]],\n",
       "      dtype=object)"
      ]
     },
     "execution_count": 238,
     "metadata": {},
     "output_type": "execute_result"
    }
   ],
   "source": [
    "batch"
   ]
  },
  {
   "cell_type": "code",
   "execution_count": 279,
   "metadata": {},
   "outputs": [],
   "source": [
    "x = batch[:, 0]\n",
    "y = batch[:, 4]"
   ]
  },
  {
   "cell_type": "code",
   "execution_count": 280,
   "metadata": {},
   "outputs": [
    {
     "data": {
      "text/plain": [
       "array([array([[ 0.01204191,  0.04026624, -0.04698397, -0.06987237]]),\n",
       "       array([[-0.0402312 ,  0.14414843,  0.04560947, -0.24532534]]),\n",
       "       array([[ 0.06075134,  0.61397077, -0.02661067, -0.87533249]]),\n",
       "       array([[ 0.03579153,  1.11315913,  0.0043516 , -1.35314073]]),\n",
       "       array([[-0.19357547, -0.06090832,  0.15923417,  0.40733878]]),\n",
       "       array([[-0.03516774,  0.02438343,  0.04809613,  0.09028284]]),\n",
       "       array([[ 0.03236193, -0.02054122,  0.01924193, -0.04819359]]),\n",
       "       array([[-0.05022685, -0.15239663,  0.02672281,  0.34705042]]),\n",
       "       array([[-0.03310266,  0.13969825,  0.03698646, -0.14697833]]),\n",
       "       array([[ 0.04002864, -0.75914321, -0.09569033,  0.75912926]])],\n",
       "      dtype=object)"
      ]
     },
     "execution_count": 280,
     "metadata": {},
     "output_type": "execute_result"
    }
   ],
   "source": [
    "x"
   ]
  },
  {
   "cell_type": "code",
   "execution_count": 281,
   "metadata": {},
   "outputs": [
    {
     "data": {
      "text/plain": [
       "(10,)"
      ]
     },
     "execution_count": 281,
     "metadata": {},
     "output_type": "execute_result"
    }
   ],
   "source": [
    "x.shape"
   ]
  },
  {
   "cell_type": "code",
   "execution_count": 282,
   "metadata": {},
   "outputs": [
    {
     "data": {
      "text/plain": [
       "array([array([-9.5788436e-04, -9.9860728e-01], dtype=float32),\n",
       "       array([-0.95040154,  0.00392988], dtype=float32),\n",
       "       array([-0.94948685,  0.0315402 ], dtype=float32),\n",
       "       array([ 0.03227581, -0.9593405 ], dtype=float32),\n",
       "       array([-0.98187417, -0.04504369], dtype=float32),\n",
       "       array([-0.00456514, -1.0134563 ], dtype=float32),\n",
       "       array([-0.9226288,  0.0020185], dtype=float32),\n",
       "       array([-0.08040256, -1.141401  ], dtype=float32),\n",
       "       array([-0.9588132 , -0.00313429], dtype=float32),\n",
       "       array([-0.25801724, -1.3761474 ], dtype=float32)], dtype=object)"
      ]
     },
     "execution_count": 282,
     "metadata": {},
     "output_type": "execute_result"
    }
   ],
   "source": [
    "y"
   ]
  },
  {
   "cell_type": "code",
   "execution_count": 283,
   "metadata": {},
   "outputs": [
    {
     "data": {
      "text/plain": [
       "(10,)"
      ]
     },
     "execution_count": 283,
     "metadata": {},
     "output_type": "execute_result"
    }
   ],
   "source": [
    "y.shape"
   ]
  },
  {
   "cell_type": "code",
   "execution_count": 284,
   "metadata": {},
   "outputs": [
    {
     "ename": "AxisError",
     "evalue": "axis 1 is out of bounds for array of dimension 1",
     "output_type": "error",
     "traceback": [
      "\u001b[0;31m---------------------------------------------------------------------------\u001b[0m",
      "\u001b[0;31mAxisError\u001b[0m                                 Traceback (most recent call last)",
      "\u001b[0;32m<ipython-input-284-0d3d39e5b8a8>\u001b[0m in \u001b[0;36m<module>\u001b[0;34m\u001b[0m\n\u001b[1;32m      1\u001b[0m \u001b[0mx\u001b[0m \u001b[0;34m=\u001b[0m \u001b[0mnp\u001b[0m\u001b[0;34m.\u001b[0m\u001b[0mconcatenate\u001b[0m\u001b[0;34m(\u001b[0m\u001b[0mx\u001b[0m\u001b[0;34m)\u001b[0m\u001b[0;34m\u001b[0m\u001b[0;34m\u001b[0m\u001b[0m\n\u001b[0;32m----> 2\u001b[0;31m \u001b[0my\u001b[0m \u001b[0;34m=\u001b[0m \u001b[0mnp\u001b[0m\u001b[0;34m.\u001b[0m\u001b[0mconcatenate\u001b[0m\u001b[0;34m(\u001b[0m\u001b[0my\u001b[0m\u001b[0;34m,\u001b[0m \u001b[0maxis\u001b[0m\u001b[0;34m=\u001b[0m\u001b[0;36m1\u001b[0m\u001b[0;34m)\u001b[0m\u001b[0;34m\u001b[0m\u001b[0;34m\u001b[0m\u001b[0m\n\u001b[0m",
      "\u001b[0;32m<__array_function__ internals>\u001b[0m in \u001b[0;36mconcatenate\u001b[0;34m(*args, **kwargs)\u001b[0m\n",
      "\u001b[0;31mAxisError\u001b[0m: axis 1 is out of bounds for array of dimension 1"
     ]
    }
   ],
   "source": [
    "x = np.concatenate(x)\n",
    "y = np.concatenate(y, axis=0)"
   ]
  },
  {
   "cell_type": "code",
   "execution_count": 285,
   "metadata": {},
   "outputs": [
    {
     "data": {
      "text/plain": [
       "(10, 4)"
      ]
     },
     "execution_count": 285,
     "metadata": {},
     "output_type": "execute_result"
    }
   ],
   "source": [
    "x.shape"
   ]
  },
  {
   "cell_type": "code",
   "execution_count": 286,
   "metadata": {},
   "outputs": [
    {
     "data": {
      "text/plain": [
       "(10,)"
      ]
     },
     "execution_count": 286,
     "metadata": {},
     "output_type": "execute_result"
    }
   ],
   "source": [
    "y.shape"
   ]
  },
  {
   "cell_type": "code",
   "execution_count": 287,
   "metadata": {},
   "outputs": [
    {
     "data": {
      "text/plain": [
       "(4,)"
      ]
     },
     "execution_count": 287,
     "metadata": {},
     "output_type": "execute_result"
    }
   ],
   "source": [
    "x[0].shape"
   ]
  },
  {
   "cell_type": "code",
   "execution_count": 288,
   "metadata": {},
   "outputs": [
    {
     "data": {
      "text/plain": [
       "(10,)"
      ]
     },
     "execution_count": 288,
     "metadata": {},
     "output_type": "execute_result"
    }
   ],
   "source": [
    "y.shape"
   ]
  },
  {
   "cell_type": "code",
   "execution_count": 289,
   "metadata": {},
   "outputs": [
    {
     "ename": "ValueError",
     "evalue": "Error when checking target: expected dense_81 to have shape (2,) but got array with shape (1,)",
     "output_type": "error",
     "traceback": [
      "\u001b[0;31m---------------------------------------------------------------------------\u001b[0m",
      "\u001b[0;31mValueError\u001b[0m                                Traceback (most recent call last)",
      "\u001b[0;32m<ipython-input-289-69f941b87d4c>\u001b[0m in \u001b[0;36m<module>\u001b[0;34m\u001b[0m\n\u001b[0;32m----> 1\u001b[0;31m \u001b[0magent\u001b[0m\u001b[0;34m.\u001b[0m\u001b[0mbrain\u001b[0m\u001b[0;34m.\u001b[0m\u001b[0mfit\u001b[0m\u001b[0;34m(\u001b[0m\u001b[0mx\u001b[0m\u001b[0;34m,\u001b[0m \u001b[0my\u001b[0m\u001b[0;34m)\u001b[0m\u001b[0;34m\u001b[0m\u001b[0;34m\u001b[0m\u001b[0m\n\u001b[0m",
      "\u001b[0;32m~/anaconda3/lib/python3.7/site-packages/keras/engine/training.py\u001b[0m in \u001b[0;36mfit\u001b[0;34m(self, x, y, batch_size, epochs, verbose, callbacks, validation_split, validation_data, shuffle, class_weight, sample_weight, initial_epoch, steps_per_epoch, validation_steps, validation_freq, max_queue_size, workers, use_multiprocessing, **kwargs)\u001b[0m\n\u001b[1;32m   1152\u001b[0m             \u001b[0msample_weight\u001b[0m\u001b[0;34m=\u001b[0m\u001b[0msample_weight\u001b[0m\u001b[0;34m,\u001b[0m\u001b[0;34m\u001b[0m\u001b[0;34m\u001b[0m\u001b[0m\n\u001b[1;32m   1153\u001b[0m             \u001b[0mclass_weight\u001b[0m\u001b[0;34m=\u001b[0m\u001b[0mclass_weight\u001b[0m\u001b[0;34m,\u001b[0m\u001b[0;34m\u001b[0m\u001b[0;34m\u001b[0m\u001b[0m\n\u001b[0;32m-> 1154\u001b[0;31m             batch_size=batch_size)\n\u001b[0m\u001b[1;32m   1155\u001b[0m \u001b[0;34m\u001b[0m\u001b[0m\n\u001b[1;32m   1156\u001b[0m         \u001b[0;31m# Prepare validation data.\u001b[0m\u001b[0;34m\u001b[0m\u001b[0;34m\u001b[0m\u001b[0;34m\u001b[0m\u001b[0m\n",
      "\u001b[0;32m~/anaconda3/lib/python3.7/site-packages/keras/engine/training.py\u001b[0m in \u001b[0;36m_standardize_user_data\u001b[0;34m(self, x, y, sample_weight, class_weight, check_array_lengths, batch_size)\u001b[0m\n\u001b[1;32m    619\u001b[0m                 \u001b[0mfeed_output_shapes\u001b[0m\u001b[0;34m,\u001b[0m\u001b[0;34m\u001b[0m\u001b[0;34m\u001b[0m\u001b[0m\n\u001b[1;32m    620\u001b[0m                 \u001b[0mcheck_batch_axis\u001b[0m\u001b[0;34m=\u001b[0m\u001b[0;32mFalse\u001b[0m\u001b[0;34m,\u001b[0m  \u001b[0;31m# Don't enforce the batch size.\u001b[0m\u001b[0;34m\u001b[0m\u001b[0;34m\u001b[0m\u001b[0m\n\u001b[0;32m--> 621\u001b[0;31m                 exception_prefix='target')\n\u001b[0m\u001b[1;32m    622\u001b[0m \u001b[0;34m\u001b[0m\u001b[0m\n\u001b[1;32m    623\u001b[0m             \u001b[0;31m# Generate sample-wise weight values given the `sample_weight` and\u001b[0m\u001b[0;34m\u001b[0m\u001b[0;34m\u001b[0m\u001b[0;34m\u001b[0m\u001b[0m\n",
      "\u001b[0;32m~/anaconda3/lib/python3.7/site-packages/keras/engine/training_utils.py\u001b[0m in \u001b[0;36mstandardize_input_data\u001b[0;34m(data, names, shapes, check_batch_axis, exception_prefix)\u001b[0m\n\u001b[1;32m    143\u001b[0m                             \u001b[0;34m': expected '\u001b[0m \u001b[0;34m+\u001b[0m \u001b[0mnames\u001b[0m\u001b[0;34m[\u001b[0m\u001b[0mi\u001b[0m\u001b[0;34m]\u001b[0m \u001b[0;34m+\u001b[0m \u001b[0;34m' to have shape '\u001b[0m \u001b[0;34m+\u001b[0m\u001b[0;34m\u001b[0m\u001b[0;34m\u001b[0m\u001b[0m\n\u001b[1;32m    144\u001b[0m                             \u001b[0mstr\u001b[0m\u001b[0;34m(\u001b[0m\u001b[0mshape\u001b[0m\u001b[0;34m)\u001b[0m \u001b[0;34m+\u001b[0m \u001b[0;34m' but got array with shape '\u001b[0m \u001b[0;34m+\u001b[0m\u001b[0;34m\u001b[0m\u001b[0;34m\u001b[0m\u001b[0m\n\u001b[0;32m--> 145\u001b[0;31m                             str(data_shape))\n\u001b[0m\u001b[1;32m    146\u001b[0m     \u001b[0;32mreturn\u001b[0m \u001b[0mdata\u001b[0m\u001b[0;34m\u001b[0m\u001b[0;34m\u001b[0m\u001b[0m\n\u001b[1;32m    147\u001b[0m \u001b[0;34m\u001b[0m\u001b[0m\n",
      "\u001b[0;31mValueError\u001b[0m: Error when checking target: expected dense_81 to have shape (2,) but got array with shape (1,)"
     ]
    }
   ],
   "source": [
    "agent.brain.fit(x, y)"
   ]
  },
  {
   "cell_type": "code",
   "execution_count": null,
   "metadata": {},
   "outputs": [],
   "source": []
  }
 ],
 "metadata": {
  "kernelspec": {
   "display_name": "Python 3",
   "language": "python",
   "name": "python3"
  },
  "language_info": {
   "codemirror_mode": {
    "name": "ipython",
    "version": 3
   },
   "file_extension": ".py",
   "mimetype": "text/x-python",
   "name": "python",
   "nbconvert_exporter": "python",
   "pygments_lexer": "ipython3",
   "version": "3.7.6"
  },
  "toc": {
   "base_numbering": 1,
   "nav_menu": {},
   "number_sections": false,
   "sideBar": true,
   "skip_h1_title": false,
   "title_cell": "Table of Contents",
   "title_sidebar": "Contents",
   "toc_cell": false,
   "toc_position": {},
   "toc_section_display": true,
   "toc_window_display": true
  }
 },
 "nbformat": 4,
 "nbformat_minor": 4
}
