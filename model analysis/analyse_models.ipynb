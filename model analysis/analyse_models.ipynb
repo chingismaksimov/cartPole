{
 "cells": [
  {
   "cell_type": "code",
   "execution_count": 97,
   "metadata": {},
   "outputs": [],
   "source": [
    "class Agent():\n",
    "    def __init__(self):\n",
    "        self.env = gym.make('CartPole-v0')\n",
    "        self.brain = self.create_brain()\n",
    "        self.memory = []\n",
    "        self.exploration_rate = 0.3\n",
    "        self.min_exloration_rate = 0.01\n",
    "        self.exploration_rate_reduction = 0.8\n",
    "        self.learning_rate = 0.001\n",
    "        self.discount_factor = 1\n",
    "        self.losing_penalty = -10\n",
    "\n",
    "    # Create the model\n",
    "    def create_brain(self):\n",
    "        inputs = keras.layers.Input(shape=(4,))\n",
    "        x = keras.layers.Dense(128, activation='linear')(inputs)\n",
    "        x = keras.layers.Dropout(0.3)(x)\n",
    "        x = keras.layers.LeakyReLU(alpha=0.3)(x)\n",
    "        x = keras.layers.Dense(256, activation='linear')(x)\n",
    "        x = keras.layers.Dropout(0.3)(x)\n",
    "        x = keras.layers.LeakyReLU(alpha=0.3)(x)\n",
    "        predictions = keras.layers.Dense(2, activation='linear')(x)\n",
    "        model = keras.Model(inputs=inputs, outputs=predictions)\n",
    "        model.compile(optimizer='adam', loss='mean_squared_error')\n",
    "        return model\n",
    "\n",
    "    # Navigate through the environment and collect traning data in memory\n",
    "    def play(self, num_episodes=10, num_time_steps=250):\n",
    "        self.memory = []\n",
    "        for episode in range(num_episodes):\n",
    "            observation = self.env.reset()\n",
    "            for t in range(num_time_steps):\n",
    "                initial_observation = observation.reshape(1, -1)\n",
    "                initial_q_values = self.brain.predict(initial_observation).flatten()\n",
    "                if np.random.rand() < self.exploration_rate:\n",
    "                    action = self.env.action_space.sample()\n",
    "                else:\n",
    "                    action = np.argmax(initial_q_values)\n",
    "                observation, reward, done, _ = self.env.step(action)\n",
    "                observation = observation.reshape(1, -1)\n",
    "                q_values = self.brain.predict(observation).flatten()\n",
    "                if done:\n",
    "                    target = copy.copy(initial_q_values)\n",
    "                    target_test = copy.copy(initial_q_values)\n",
    "                    target[action] = initial_q_values[action] + self.learning_rate * (self.losing_penalty - initial_q_values[action])\n",
    "                    target_test[action] = initial_q_values[action] + self.learning_rate * (initial_q_values[action] + self.losing_penalty)\n",
    "                    self.memory.append((initial_observation, initial_q_values,  q_values, target, target_test, action, reward, done))\n",
    "                    break\n",
    "                else:\n",
    "                    target = copy.copy(initial_q_values)\n",
    "                    target_test = copy.copy(initial_q_values)\n",
    "                    target[action] = initial_q_values[action] + self.learning_rate * (reward + self.discount_factor * np.max(q_values) - initial_q_values[action])\n",
    "                    target_test[action] = initial_q_values[action] + self.learning_rate * (initial_q_values[action] - (reward + self.discount_factor * np.max(q_values)))\n",
    "                    self.memory.append((initial_observation, initial_q_values, q_values, target, target_test, action, reward, done))"
   ]
  },
  {
   "cell_type": "code",
   "execution_count": 98,
   "metadata": {},
   "outputs": [],
   "source": [
    "agent = Agent()"
   ]
  },
  {
   "cell_type": "code",
   "execution_count": 114,
   "metadata": {},
   "outputs": [
    {
     "data": {
      "text/plain": [
       "(array([[-0.04805415, -0.03720153,  0.02675557,  0.01893391]]),\n",
       " array([0.00476557, 0.00448998], dtype=float32),\n",
       " array([0.00776992, 0.04238249], dtype=float32),\n",
       " array([0.00580319, 0.00448998], dtype=float32),\n",
       " array([0.00372795, 0.00448998], dtype=float32),\n",
       " 0,\n",
       " 1.0,\n",
       " False)"
      ]
     },
     "execution_count": 114,
     "metadata": {},
     "output_type": "execute_result"
    }
   ],
   "source": [
    "agent.play(num_episodes=1)\n",
    "agent.memory[0]"
   ]
  },
  {
   "cell_type": "code",
   "execution_count": 115,
   "metadata": {},
   "outputs": [
    {
     "data": {
      "text/plain": [
       "0.005803188482765108"
      ]
     },
     "execution_count": 115,
     "metadata": {},
     "output_type": "execute_result"
    }
   ],
   "source": [
    "x = agent.memory[0][1][agent.memory[0][5]] + agent.learning_rate * (1 + np.max(agent.memory[0][2]) - agent.memory[0][1][agent.memory[0][5]])\n",
    "x"
   ]
  },
  {
   "cell_type": "code",
   "execution_count": 116,
   "metadata": {},
   "outputs": [
    {
     "data": {
      "text/plain": [
       "0.003727954638656229"
      ]
     },
     "execution_count": 116,
     "metadata": {},
     "output_type": "execute_result"
    }
   ],
   "source": [
    "y = agent.memory[0][1][agent.memory[0][5]] + agent.learning_rate * (agent.memory[0][1][agent.memory[0][5]] - (1 + np.max(agent.memory[0][2])))\n",
    "y"
   ]
  },
  {
   "cell_type": "code",
   "execution_count": 117,
   "metadata": {},
   "outputs": [
    {
     "data": {
      "text/plain": [
       "0.0020752338441088793"
      ]
     },
     "execution_count": 117,
     "metadata": {},
     "output_type": "execute_result"
    }
   ],
   "source": [
    "x - y"
   ]
  },
  {
   "cell_type": "code",
   "execution_count": 118,
   "metadata": {},
   "outputs": [
    {
     "data": {
      "text/plain": [
       "0.0010376169220544396"
      ]
     },
     "execution_count": 118,
     "metadata": {},
     "output_type": "execute_result"
    }
   ],
   "source": [
    "x - agent.memory[0][1][agent.memory[0][5]]"
   ]
  },
  {
   "cell_type": "code",
   "execution_count": 119,
   "metadata": {},
   "outputs": [
    {
     "data": {
      "text/plain": [
       "-0.0010376169220544396"
      ]
     },
     "execution_count": 119,
     "metadata": {},
     "output_type": "execute_result"
    }
   ],
   "source": [
    "y - agent.memory[0][1][agent.memory[0][5]]"
   ]
  },
  {
   "cell_type": "code",
   "execution_count": null,
   "metadata": {},
   "outputs": [],
   "source": []
  }
 ],
 "metadata": {
  "kernelspec": {
   "display_name": "Python 3",
   "language": "python",
   "name": "python3"
  },
  "language_info": {
   "codemirror_mode": {
    "name": "ipython",
    "version": 3
   },
   "file_extension": ".py",
   "mimetype": "text/x-python",
   "name": "python",
   "nbconvert_exporter": "python",
   "pygments_lexer": "ipython3",
   "version": "3.7.6"
  },
  "toc": {
   "base_numbering": 1,
   "nav_menu": {},
   "number_sections": false,
   "sideBar": true,
   "skip_h1_title": false,
   "title_cell": "Table of Contents",
   "title_sidebar": "Contents",
   "toc_cell": false,
   "toc_position": {},
   "toc_section_display": true,
   "toc_window_display": true
  }
 },
 "nbformat": 4,
 "nbformat_minor": 4
}
